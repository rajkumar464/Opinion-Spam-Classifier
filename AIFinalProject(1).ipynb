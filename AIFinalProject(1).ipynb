{
  "nbformat": 4,
  "nbformat_minor": 0,
  "metadata": {
    "colab": {
      "name": "AIFinalProject.ipynb",
      "provenance": [],
      "collapsed_sections": []
    },
    "kernelspec": {
      "name": "python3",
      "display_name": "Python 3"
    },
    "language_info": {
      "name": "python"
    }
  },
  "cells": [
    {
      "cell_type": "code",
      "metadata": {
        "id": "hn4hB0GYQrS3",
        "colab": {
          "base_uri": "https://localhost:8080/"
        },
        "outputId": "9b6d2e35-5426-404d-8c4a-5ee4b7647de5"
      },
      "source": [
        "!pip install nltk==3.4\n",
        "import nltk\n",
        "import os\n",
        "import glob\n",
        "from nltk import word_tokenize\n",
        "from nltk.util import ngrams\n",
        "from nltk.corpus import stopwords\n",
        "from nltk.stem.porter import *\n",
        "import pandas as pd\n",
        "import csv\n",
        "import string\n",
        "import numpy as np\n",
        "from google.colab import drive\n",
        "nltk.download('punkt')\n",
        "nltk.download('stopwords')"
      ],
      "execution_count": null,
      "outputs": [
        {
          "output_type": "stream",
          "name": "stdout",
          "text": [
            "Requirement already satisfied: nltk==3.4 in /usr/local/lib/python3.7/dist-packages (3.4)\n",
            "Requirement already satisfied: six in /usr/local/lib/python3.7/dist-packages (from nltk==3.4) (1.15.0)\n",
            "Requirement already satisfied: singledispatch in /usr/local/lib/python3.7/dist-packages (from nltk==3.4) (3.7.0)\n"
          ]
        }
      ]
    },
    {
      "cell_type": "code",
      "metadata": {
        "colab": {
          "base_uri": "https://localhost:8080/"
        },
        "id": "EF1fLtjLVyYq",
        "outputId": "57c08c49-d96b-45e6-f64c-a735f71445f5"
      },
      "source": [
        "drive.mount('/content/drive/')"
      ],
      "execution_count": null,
      "outputs": [
        {
          "output_type": "stream",
          "name": "stdout",
          "text": [
            "Drive already mounted at /content/drive/; to attempt to forcibly remount, call drive.mount(\"/content/drive/\", force_remount=True).\n"
          ]
        }
      ]
    },
    {
      "cell_type": "markdown",
      "metadata": {
        "id": "j8VLmDjfUFT8"
      },
      "source": [
        "# Preprocessing\n"
      ]
    },
    {
      "cell_type": "code",
      "metadata": {
        "id": "DYTiOKevQXsg"
      },
      "source": [
        "df1 = pd.read_csv('/content/drive/MyDrive/fake_reviews_detection/dataset_files/true_positive.txt',delimiter='\\n')\n",
        "df1.to_csv('/content/drive/MyDrive/fake_reviews_detection/dataset_files/pos_true.csv', index = True)\n",
        "df2 = pd.read_csv('/content/drive/MyDrive/fake_reviews_detection/dataset_files/neg_true.txt',delimiter='\\n')\n",
        "df2.to_csv('/content/drive/MyDrive/fake_reviews_detection/dataset_files/neg_true.csv', index = True)\n",
        "df3 = pd.read_csv('/content/drive/MyDrive/fake_reviews_detection/dataset_files/false_positive.txt',delimiter='\\n')\n",
        "df3.to_csv('/content/drive/MyDrive/fake_reviews_detection/dataset_files/pos_fake.csv', index = True)\n",
        "df4 = pd.read_csv('/content/drive/MyDrive/fake_reviews_detection/dataset_files/false_negative.txt',delimiter='\\n')\n",
        "df4.to_csv('/content/drive/MyDrive/fake_reviews_detection/dataset_files/neg_fake.csv', index = True)"
      ],
      "execution_count": null,
      "outputs": []
    },
    {
      "cell_type": "code",
      "source": [
        "#Since machine learning models cannot take a string as input, the reviews will have to be converted into a suitable data type like a vectorized list"
      ],
      "metadata": {
        "id": "vJiBBt6S4ytB"
      },
      "execution_count": null,
      "outputs": []
    },
    {
      "cell_type": "markdown",
      "metadata": {
        "id": "4v13Ow_3S-3T"
      },
      "source": [
        "# Feature Engineering"
      ]
    },
    {
      "cell_type": "code",
      "metadata": {
        "id": "88AihC7MQx3K"
      },
      "source": [
        "def create_unigram(review): \n",
        "\t\"\"\"\n",
        "\tInput: review (string)\n",
        "\tOutput: unigrams (list)\n",
        "\t\"\"\"\n",
        "\ttoken = word_tokenize(review)\n",
        "\tunigrams = ngrams(token,1)\n",
        "\treturn list(unigrams)"
      ],
      "execution_count": null,
      "outputs": []
    },
    {
      "cell_type": "code",
      "source": [
        "def create_complete_unigram_list(dataset):\n",
        "\t\"\"\"\n",
        "\tInput:  dataset (dataframe)\n",
        "\tOutput: final_unigram_list (list)\n",
        "\t\"\"\"\n",
        "\tfinal_unigram_list=[]\n",
        "\t\n",
        "\tfor row in dataset:\n",
        "\t\treview=row[0]\n",
        "\t\treview=remove_stopwords(review)\n",
        "\t\treview=get_string_stem(review)\n",
        "\t\tfinal_unigram_list+=create_unigram(review)\n",
        "\t\tfinal_unigram_list=list(set(final_unigram_list))\n",
        "\treturn final_unigram_list"
      ],
      "metadata": {
        "id": "2E7MKOH987_e"
      },
      "execution_count": null,
      "outputs": []
    },
    {
      "cell_type": "code",
      "metadata": {
        "id": "TRKlvDT1Qy7b"
      },
      "source": [
        "def create_bigram(review):\n",
        "\t\"\"\"\n",
        "  Input: review (string)\n",
        "\tOutput: bigrams (list)\n",
        "\t\"\"\"\n",
        "\ttoken = word_tokenize(review)\n",
        "\tbigrams = ngrams(token,2)\n",
        "\treturn list(bigrams)"
      ],
      "execution_count": null,
      "outputs": []
    },
    {
      "cell_type": "code",
      "source": [
        "def create_complete_bigram_list(dataset):\n",
        "\t\"\"\"\n",
        "\tInput:  dataset (dataframe)  \n",
        "\tOutput: final_bigram_list (list)\n",
        "\t\"\"\"\n",
        "\tfinal_bigram_list=[]\n",
        "\tfor row in dataset:\n",
        "\t\treview=row[0]\n",
        "\t\treview=remove_stopwords(review)\n",
        "\t\treview=get_string_stem(review)\n",
        "\t\tfinal_bigram_list+=create_bigram(review)\n",
        "\t\tfinal_bigram_list=list(set(final_bigram_list))\n",
        "\treturn final_bigram_list"
      ],
      "metadata": {
        "id": "2Gm1ELBJ9Nk3"
      },
      "execution_count": null,
      "outputs": []
    },
    {
      "cell_type": "code",
      "metadata": {
        "id": "BLJ3P20XQ2WS"
      },
      "source": [
        "def create_trigram(review):\n",
        "\t\"\"\"\n",
        "\tInput: review (string)\n",
        "\tOutput: trigrams (list)\n",
        "\t\"\"\"\n",
        "\ttoken = word_tokenize(review)\n",
        "\ttrigrams = ngrams(token,3)\n",
        "\treturn list(trigrams)"
      ],
      "execution_count": null,
      "outputs": []
    },
    {
      "cell_type": "code",
      "source": [
        "def create_complete_trigram_list(dataset):\n",
        "\t\"\"\"\n",
        "\tInput:  dataset (dataframe)\n",
        "\tOutput: final_trigram_list (list)\n",
        "\t\"\"\"\n",
        "\tfinal_trigram_list=[]\n",
        "\tfor row in dataset:\n",
        "\t\treview=row[0]\n",
        "\t\treview=remove_stopwords(review)\n",
        "\t\treview=get_string_stem(review)\n",
        "\t\tfinal_trigram_list+=create_trigram(review)\n",
        "\t\tfinal_trigram_list=list(set(final_trigram_list))\n",
        "\treturn final_trigram_list"
      ],
      "metadata": {
        "id": "E6GKLbLj9SLH"
      },
      "execution_count": null,
      "outputs": []
    },
    {
      "cell_type": "code",
      "source": [
        "def get_top_ngram(ngrams_list,top_max_count): #returns a list of the most common ngrams\n",
        "    \"\"\"\n",
        "\tInput:  ngrams_list (list) \n",
        "          top_max_count (int) \n",
        "\tOutput: most_common_ngram_list (list)\n",
        "\t\"\"\"\n",
        "    most_common_ngram_list=[]\n",
        "    fdist = nltk.FreqDist(ngrams_list)\n",
        "    for ngram_count in fdist.most_common(top_max_count):\n",
        "        most_common_ngram_list.append(ngram_count[0])\n",
        "    return most_common_ngram_list"
      ],
      "metadata": {
        "id": "-Sj2KWXz9oyc"
      },
      "execution_count": null,
      "outputs": []
    },
    {
      "cell_type": "code",
      "source": [
        "def create_vector(row,final_ngram_list): #creates a vector array for every review in the dataset\n",
        "\t\"\"\"\n",
        "\tInput: row (dataframe row)\n",
        "\t\t\t\t final_ngram_list (list)\n",
        "\tOutput: review vector (list)\n",
        "\t\"\"\"\n",
        "\treview=row[0]\n",
        "\treview=remove_stopwords(review)\n",
        "\treview=get_string_stem(review)\n",
        "\n",
        "\treview_unigram=create_unigram(review)\n",
        "\treview_bigram=create_bigram(review)\n",
        "\treview_trigram=create_trigram(review)\n",
        "\n",
        "\treview_ngram=review_unigram+review_bigram+review_trigram\n",
        "\n",
        "\treview_vector=[0]*len(final_ngram_list)\n",
        "\n",
        "\t#Creates a 1/0 representation\n",
        "\tfor ngram in review_ngram:\n",
        "\t\tif ngram in final_ngram_list:\n",
        "\t\t\treview_vector[final_ngram_list.index(ngram)]=1\n",
        "\n",
        "\t#Vector representation : [ngram_counts] + char_count+ punc_count +exclamation_count + question_count+[label from csv about pos/neg]\n",
        "\treview_vector+=[get_character_count(row[0])]+[get_punctuation_count(row[0])]+[get_exclamation_count(row[0])]+[get_question_count(row[0])]+[row[1]]\n",
        "\treturn review_vector"
      ],
      "metadata": {
        "id": "xa1vUZpF9s_6"
      },
      "execution_count": null,
      "outputs": []
    },
    {
      "cell_type": "code",
      "source": [
        "def get_selected_ngrams(uni_count,bi_count,tri_count,dataset): \n",
        "\t\"\"\"\n",
        "\tInput: uni_count (int)\n",
        "\t\t\t\t bi_count (int)\n",
        "\t\t\t\t tri_count (int)\t\n",
        "\t\t\t\t dataset   (dataframe)\n",
        "\tOutput: final_ngram_list (list)\n",
        "\t\"\"\"\n",
        "\tfinal_unigram_list= create_complete_unigram_list(dataset)\n",
        "\tfinal_bigram_list= create_complete_bigram_list(dataset)\n",
        "\tfinal_trigram_list= create_complete_trigram_list(dataset)\n",
        "\n",
        "\tfinal_ngram_list=get_top_ngram(final_unigram_list,uni_count)+get_top_ngram(final_bigram_list,bi_count)+get_top_ngram(final_trigram_list,tri_count)\n",
        "\n",
        "\treturn final_ngram_list"
      ],
      "metadata": {
        "id": "qtPQjgQ79zjl"
      },
      "execution_count": null,
      "outputs": []
    },
    {
      "cell_type": "code",
      "source": [
        "def create_vector_list(final_ngram_list, dataset): #returns a list of the vectorized rows\n",
        "\t\"\"\"\n",
        "\tInput: final_ngram_list (list)\n",
        "\t\t     dataset (dataframe)\n",
        "\tOutput: vector_list (list)\n",
        "\t\"\"\"\n",
        "\tvector_list=[]\n",
        "\n",
        "\tfor index,row in dataset.iterrows():\n",
        "\t\tvector_list.append(create_vector(row,final_ngram_list))\n",
        "\t\n",
        "\treturn vector_list"
      ],
      "metadata": {
        "id": "PAxKblqJ90XA"
      },
      "execution_count": null,
      "outputs": []
    },
    {
      "cell_type": "code",
      "metadata": {
        "id": "PaPfhAc2Q6dN"
      },
      "source": [
        "def get_string_stem(input_string): #gets the root word from different variations of it (eg. 'like' is the root word for 'likes','liked','likely')\n",
        "\t\"\"\"\n",
        "\tInput: input_string (string)\n",
        "\tOutput : ps.stem(input_string) (string)\n",
        "\t\"\"\"\n",
        "\tps = PorterStemmer()\n",
        "\treturn (ps.stem(input_string))"
      ],
      "execution_count": null,
      "outputs": []
    },
    {
      "cell_type": "code",
      "metadata": {
        "id": "rPlfHzpUQ_kB"
      },
      "source": [
        "def remove_stopwords(review): #removes commonly used words like 'the', 'a', 'an'\n",
        "\t\"\"\"\n",
        "\tInput: review (string)\n",
        "\tOutput: newTokens (string)\n",
        "\t\"\"\"\n",
        "\ttokens = word_tokenize(review)\n",
        "\tnewTokens=[]\n",
        "\tfor x in tokens:\n",
        "\t\tif x.lower() not in stopwords.words('english'):\n",
        "\t\t\tnewTokens.append(x)\n",
        "\treturn (\" \".join(newTokens))"
      ],
      "execution_count": null,
      "outputs": []
    },
    {
      "cell_type": "code",
      "metadata": {
        "id": "FOfQsb0nRAEn"
      },
      "source": [
        "def get_punctuation_count(input_string): #gets number of punctuation marks \n",
        "\tcount = lambda l1, l2: len(list(filter(lambda c: c in l2, l1)))\n",
        "\treturn count(input_string, string.punctuation)"
      ],
      "execution_count": null,
      "outputs": []
    },
    {
      "cell_type": "code",
      "metadata": {
        "id": "3ZT5gHlVRFCl"
      },
      "source": [
        "def get_character_count(input_string): #gets number of characters\n",
        "\tcount = lambda l1, l2: len(list(filter(lambda c: c in l2, l1)))\n",
        "\treturn count(input_string, string.ascii_letters)"
      ],
      "execution_count": null,
      "outputs": []
    },
    {
      "cell_type": "code",
      "metadata": {
        "id": "3NWx6xg-RHJV"
      },
      "source": [
        "def get_exclamation_count(input_string): #gets number of exclamatory marks\n",
        "\treturn input_string.count('!')"
      ],
      "execution_count": null,
      "outputs": []
    },
    {
      "cell_type": "code",
      "metadata": {
        "id": "hMAIYDDJRK2t"
      },
      "source": [
        "def get_question_count(input_string): #gets number of question marks\n",
        "\treturn input_string.count('?')"
      ],
      "execution_count": null,
      "outputs": []
    },
    {
      "cell_type": "markdown",
      "metadata": {
        "id": "Tb700LTgTXGB"
      },
      "source": [
        "# Preprocessing"
      ]
    },
    {
      "cell_type": "code",
      "metadata": {
        "id": "HU3kri3iRTAH"
      },
      "source": [
        "\n",
        "def create_full_csv(): \n",
        "    with open(\"/content/drive/My Drive/fake_reviews_detection/dataset_files/neg_fake.csv\") as f:\n",
        "        neg_fake = [review for review in f.read()[:-1].split(\"\\n\")]\n",
        "    with open(\"/content/drive/My Drive/fake_reviews_detection/dataset_files/pos_fake.csv\") as f:\n",
        "        pos_fake = [review for review in f.read()[:-1].split(\"\\n\")]\n",
        "    with open(\"/content/drive/My Drive/fake_reviews_detection/dataset_files/pos_true.csv\") as f:\n",
        "        pos_true = [review for review in f.read()[:-1].split(\"\\n\")]\n",
        "    with open(\"/content/drive/My Drive/fake_reviews_detection/dataset_files/neg_true.csv\") as f:\n",
        "        neg_true = [review for review in f.read()[:-1].split(\"\\n\")]\n",
        "        \n",
        "    data = pos_fake + neg_fake + pos_true + neg_true\n",
        "    labels = [0] * (len(pos_fake) + len(neg_fake)) + [1] * (len(pos_true) + len(neg_true))\n",
        "    pos_neg = [1] * len(pos_fake) + [0] * len(neg_fake) + [1] * len(pos_true) + [0] * len(neg_true)\n",
        "    processed_data = zip(data, pos_neg, labels)\n",
        "\n",
        "    data_file = open(\"data_full.csv\", \"w\")\n",
        "    wr_file = csv.writer(data_file, delimiter = ',')\n",
        "    for row in processed_data:\n",
        "        # print(row)\n",
        "        wr_file.writerow(row)\n",
        "    data_file.close()\n",
        "    return processed_data\n"
      ],
      "execution_count": null,
      "outputs": []
    },
    {
      "cell_type": "code",
      "metadata": {
        "colab": {
          "base_uri": "https://localhost:8080/"
        },
        "id": "CTBlklB5U_mH",
        "outputId": "c52ab89f-f6f4-4596-8343-fad180b4f3e9"
      },
      "source": [
        "create_full_csv()"
      ],
      "execution_count": null,
      "outputs": [
        {
          "output_type": "execute_result",
          "data": {
            "text/plain": [
              "<zip at 0x7fb76a9b5e10>"
            ]
          },
          "metadata": {},
          "execution_count": 28
        }
      ]
    },
    {
      "cell_type": "code",
      "metadata": {
        "id": "HMnlWru6XshE"
      },
      "source": [
        "df = pd.read_csv('/content/data_full.csv')\n",
        "df.columns = ['Review','Pos or Neg','True or False']\n"
      ],
      "execution_count": null,
      "outputs": []
    },
    {
      "cell_type": "code",
      "metadata": {
        "colab": {
          "base_uri": "https://localhost:8080/"
        },
        "id": "bQpAIVOeZA5W",
        "outputId": "f821d1c4-7cdf-4af4-8ea5-1c55beaee9e6"
      },
      "source": [
        "df.shape"
      ],
      "execution_count": null,
      "outputs": [
        {
          "output_type": "execute_result",
          "data": {
            "text/plain": [
              "(1599, 3)"
            ]
          },
          "metadata": {},
          "execution_count": 30
        }
      ]
    },
    {
      "cell_type": "markdown",
      "metadata": {
        "id": "Vl0vzpNrTPv4"
      },
      "source": [
        "# Feature Engineering Results"
      ]
    },
    {
      "cell_type": "markdown",
      "metadata": {
        "id": "JejKrW0_XVOF"
      },
      "source": [
        "## Punctuation Count"
      ]
    },
    {
      "cell_type": "code",
      "metadata": {
        "colab": {
          "base_uri": "https://localhost:8080/"
        },
        "id": "ZPnO7rxETSaS",
        "outputId": "d1ccaf0c-4d07-420f-b59d-ddb791a215a2"
      },
      "source": [
        "punctuation_count=[]\n",
        "for i in range(1599):\n",
        "  res=get_punctuation_count(df['Review'].iloc[i])\n",
        "  punctuation_count.append(res)\n",
        "print(len(punctuation_count))"
      ],
      "execution_count": null,
      "outputs": [
        {
          "output_type": "stream",
          "name": "stdout",
          "text": [
            "1599\n"
          ]
        }
      ]
    },
    {
      "cell_type": "markdown",
      "metadata": {
        "id": "mhDaFFifXYpH"
      },
      "source": [
        "## Character Count"
      ]
    },
    {
      "cell_type": "code",
      "metadata": {
        "colab": {
          "base_uri": "https://localhost:8080/"
        },
        "id": "CR5wk3wmXfDV",
        "outputId": "686310b0-7b25-445c-8fce-d864df8e2e2f"
      },
      "source": [
        "character_count=[]\n",
        "for i in range(1599):\n",
        "  res=get_character_count(df['Review'].iloc[i])\n",
        "  character_count.append(res)\n",
        "print(character_count)"
      ],
      "execution_count": null,
      "outputs": [
        {
          "output_type": "stream",
          "name": "stdout",
          "text": [
            "[294, 304, 464, 452, 328, 379, 341, 292, 323, 696, 287, 489, 254, 705, 194, 300, 513, 431, 443, 1174, 364, 615, 452, 497, 238, 545, 1337, 614, 227, 468, 522, 439, 1226, 214, 287, 159, 322, 710, 143, 691, 744, 440, 183, 327, 749, 364, 343, 212, 461, 491, 770, 727, 588, 341, 330, 182, 305, 443, 918, 514, 480, 332, 316, 619, 1086, 518, 626, 329, 397, 560, 596, 719, 892, 612, 401, 458, 534, 203, 299, 292, 238, 522, 330, 242, 335, 338, 371, 251, 857, 1021, 310, 400, 342, 959, 642, 274, 564, 212, 548, 380, 456, 420, 711, 706, 610, 745, 595, 670, 429, 785, 253, 212, 284, 272, 479, 637, 399, 615, 658, 481, 657, 511, 291, 469, 417, 686, 301, 575, 1041, 521, 385, 686, 780, 406, 455, 443, 727, 874, 132, 475, 682, 401, 355, 527, 385, 230, 381, 577, 361, 170, 1146, 249, 582, 325, 526, 735, 147, 790, 144, 559, 518, 548, 213, 824, 820, 457, 259, 528, 253, 1321, 266, 264, 505, 371, 411, 535, 209, 168, 356, 623, 579, 368, 443, 493, 828, 349, 673, 436, 282, 816, 671, 481, 587, 214, 227, 903, 539, 1321, 386, 604, 652, 336, 660, 392, 393, 579, 491, 980, 334, 1168, 538, 500, 350, 122, 732, 179, 443, 299, 345, 1435, 314, 883, 359, 386, 187, 347, 534, 514, 437, 442, 214, 914, 483, 317, 1894, 261, 479, 420, 1093, 452, 399, 448, 524, 466, 354, 725, 308, 334, 506, 778, 539, 441, 456, 201, 575, 540, 441, 432, 488, 754, 551, 548, 417, 341, 230, 490, 475, 270, 333, 410, 456, 365, 501, 460, 412, 226, 225, 694, 784, 292, 220, 861, 313, 462, 149, 216, 371, 228, 285, 587, 1114, 327, 416, 535, 472, 174, 484, 1041, 447, 845, 481, 274, 271, 474, 563, 394, 323, 175, 458, 335, 565, 267, 329, 359, 710, 195, 457, 349, 127, 488, 377, 206, 861, 283, 429, 562, 285, 422, 406, 1211, 323, 709, 652, 629, 1210, 282, 384, 958, 753, 1145, 431, 552, 186, 823, 651, 506, 311, 239, 157, 1164, 478, 457, 1520, 901, 1212, 1022, 369, 431, 339, 699, 1852, 520, 262, 587, 264, 409, 524, 451, 1084, 288, 493, 481, 419, 812, 306, 332, 201, 858, 635, 188, 372, 698, 565, 458, 853, 625, 589, 421, 462, 637, 773, 441, 405, 530, 473, 550, 287, 597, 434, 1180, 349, 802, 644, 854, 1038, 3224, 453, 589, 471, 427, 645, 714, 819, 487, 529, 952, 1626, 543, 1077, 2269, 904, 727, 1532, 662, 658, 412, 1164, 488, 788, 158, 390, 1260, 1124, 340, 310, 492, 370, 574, 311, 579, 611, 392, 1076, 401, 867, 510, 296, 427, 834, 900, 453, 502, 519, 861, 786, 254, 152, 616, 714, 632, 570, 138, 679, 592, 305, 1053, 797, 829, 713, 854, 904, 637, 969, 1039, 638, 665, 583, 791, 314, 668, 916, 298, 600, 988, 720, 305, 476, 843, 377, 260, 797, 1243, 486, 621, 430, 1471, 1575, 357, 497, 217, 923, 1185, 1393, 1343, 870, 565, 1410, 683, 548, 351, 421, 1003, 419, 786, 433, 389, 549, 774, 570, 589, 483, 346, 1057, 311, 211, 277, 1213, 349, 336, 2079, 601, 703, 918, 896, 1094, 1127, 644, 997, 371, 995, 414, 2383, 705, 337, 319, 533, 640, 982, 608, 1213, 1061, 730, 632, 545, 791, 646, 426, 1015, 1271, 457, 1628, 421, 704, 1120, 1418, 1229, 561, 1625, 780, 399, 228, 516, 512, 1833, 1248, 679, 757, 1486, 1978, 316, 428, 695, 682, 701, 764, 283, 594, 1323, 805, 952, 711, 924, 934, 349, 513, 509, 1359, 922, 1126, 381, 767, 370, 546, 966, 756, 1063, 486, 1571, 576, 459, 632, 630, 720, 437, 430, 703, 388, 423, 922, 580, 851, 394, 1254, 444, 1074, 604, 714, 589, 976, 510, 372, 481, 715, 683, 512, 220, 859, 226, 968, 618, 511, 855, 653, 700, 1093, 766, 1704, 685, 817, 696, 707, 690, 561, 878, 974, 1566, 1154, 382, 1051, 1258, 782, 667, 785, 1334, 407, 787, 656, 781, 523, 417, 950, 1473, 1124, 272, 883, 653, 452, 817, 716, 702, 509, 872, 1119, 482, 1168, 530, 664, 743, 696, 352, 713, 853, 677, 967, 752, 721, 1100, 1065, 526, 929, 684, 706, 981, 1591, 633, 778, 747, 358, 2001, 959, 663, 258, 483, 682, 459, 404, 1417, 772, 179, 745, 467, 757, 864, 246, 614, 907, 642, 299, 1489, 970, 476, 414, 627, 720, 1295, 661, 348, 828, 592, 254, 965, 747, 552, 530, 668, 858, 551, 1042, 370, 265, 1069, 565, 1506, 467, 271, 436, 1272, 532, 1103, 686, 519, 616, 258, 747, 577, 908, 868, 1132, 708, 252, 1104, 275, 437, 1006, 1692, 588, 1266, 597, 329, 609, 245, 865, 287, 265, 602, 886, 819, 917, 1832, 989, 1002, 1134, 784, 328, 469, 986, 446, 411, 346, 506, 957, 471, 580, 228, 559, 694, 366, 259, 351, 306, 270, 430, 205, 400, 430, 741, 289, 394, 447, 429, 274, 793, 716, 563, 250, 405, 636, 515, 304, 265, 369, 698, 488, 809, 527, 459, 169, 678, 550, 656, 422, 566, 426, 243, 683, 348, 372, 1088, 392, 534, 472, 800, 312, 315, 842, 399, 170, 583, 149, 1437, 566, 300, 471, 421, 289, 443, 866, 370, 738, 1150, 340, 845, 262, 197, 652, 385, 775, 555, 947, 965, 407, 274, 902, 619, 576, 423, 234, 441, 329, 890, 483, 815, 1080, 291, 391, 375, 522, 181, 281, 555, 394, 513, 200, 425, 805, 694, 625, 331, 462, 337, 1266, 695, 320, 515, 1958, 206, 784, 589, 369, 1171, 1008, 363, 1619, 263, 528, 464, 450, 325, 526, 842, 666, 220, 389, 1312, 264, 370, 611, 289, 642, 520, 400, 530, 667, 780, 449, 655, 426, 286, 763, 628, 345, 859, 476, 579, 202, 460, 897, 305, 630, 618, 887, 452, 412, 704, 489, 645, 555, 333, 524, 795, 471, 835, 641, 398, 259, 209, 311, 233, 193, 1560, 741, 579, 312, 250, 1195, 176, 466, 304, 382, 365, 167, 861, 436, 1165, 632, 226, 1073, 329, 350, 702, 476, 227, 423, 234, 475, 796, 585, 339, 444, 538, 169, 553, 610, 422, 584, 311, 358, 447, 749, 244, 737, 733, 772, 300, 283, 1205, 1552, 228, 1032, 328, 650, 666, 686, 502, 594, 287, 521, 244, 572, 517, 848, 379, 338, 485, 923, 347, 1655, 789, 274, 195, 247, 475, 628, 586, 445, 1332, 982, 498, 510, 818, 632, 236, 510, 539, 559, 268, 576, 739, 301, 514, 362, 206, 433, 503, 219, 772, 400, 494, 532, 380, 338, 821, 632, 1808, 315, 770, 1415, 630, 482, 383, 201, 398, 557, 1577, 221, 401, 133, 453, 560, 340, 360, 282, 446, 1127, 458, 670, 708, 511, 1038, 407, 880, 464, 351, 589, 217, 258, 372, 287, 443, 220, 575, 742, 496, 862, 300, 434, 961, 451, 282, 1129, 384, 336, 396, 423, 818, 345, 264, 701, 323, 336, 961, 646, 589, 662, 427, 288, 172, 746, 251, 294, 185, 597, 351, 380, 764, 190, 832, 381, 161, 400, 289, 374, 269, 288, 525, 337, 565, 707, 170, 254, 527, 508, 419, 545, 454, 279, 527, 599, 337, 426, 525, 253, 806, 623, 461, 749, 587, 495, 222, 744, 496, 345, 323, 490, 375, 446, 919, 622, 448, 270, 760, 513, 811, 582, 1264, 874, 991, 1703, 574, 1264, 242, 492, 664, 382, 418, 573, 2339, 675, 942, 351, 768, 1176, 897, 702, 1120, 587, 858, 719, 546, 950, 1045, 743, 575, 1512, 311, 440, 745, 817, 918, 990, 617, 688, 404, 563, 828, 858, 1161, 335, 733, 749, 1050, 915, 1631, 1095, 557, 539, 598, 685, 772, 636, 895, 500, 573, 307, 416, 486, 1021, 1918, 683, 605, 308, 314, 2633, 722, 280, 459, 1202, 1081, 539, 493, 546, 919, 1055, 655, 666, 528, 1077, 645, 1089, 1549, 887, 498, 349, 780, 392, 819, 612, 1901, 915, 681, 561, 1151, 896, 1221, 355, 1046, 741, 399, 584, 1076, 1044, 367, 690, 369, 465, 1062, 1386, 404, 178, 488, 588, 643, 994, 473, 434, 460, 701, 456, 1178, 942, 819, 721, 1255, 1502, 1241, 1542, 638, 547, 731, 320, 695, 910, 795, 501, 449, 1636, 580, 922, 697, 620, 1633, 765, 289, 641, 700, 526, 308, 826, 556, 857, 267, 486, 473, 1120, 317, 311, 409, 582, 1673, 2762, 994, 606, 368, 1363, 582, 1036, 680, 252, 1093, 403, 918, 1012, 686, 608, 663, 840, 587, 630, 2115, 481, 1366, 1967, 1007, 653, 538, 1098, 413, 537, 295, 344, 375, 382, 344, 357, 512, 1586, 1394, 398, 577, 733, 580, 820, 468, 1125, 595, 566, 815, 725, 327, 651, 429, 855, 1259, 417, 361, 545, 342, 1288, 302, 523, 934, 474, 787, 1195, 1426, 1554, 756, 679, 594, 945, 1672, 175, 529, 555, 874, 609, 754, 767, 513, 796, 349, 344, 857, 636, 679, 929, 736, 686, 589, 635, 1475, 833, 726, 377, 335, 987, 669, 559, 674, 686, 177, 559, 640, 280, 1519, 306, 515, 466, 524, 372, 729, 1444, 528, 729, 291, 342, 586, 972, 398, 482, 1201, 226, 734, 192, 370, 423, 564, 944, 370, 583, 790, 679, 489, 951, 727, 461, 556, 1847, 561, 772, 682, 385, 889, 520, 632, 465, 221, 699, 400, 407, 428, 922, 424, 427, 695, 489, 730, 351, 509, 315, 272, 746, 713, 259, 745, 945, 1235, 404, 659, 599, 261, 1275, 483, 477, 446, 620, 603, 791, 658, 890, 656, 860, 1236, 1201, 742, 363, 546, 192, 176, 860, 463, 1253, 868, 875, 571, 393, 564, 352, 415, 539, 679, 988, 696, 990, 430, 1295, 1206, 615, 319, 636, 1811, 1166, 2762, 1990, 1544, 331, 1144, 3257, 845, 750, 521, 630, 713, 812, 875, 752, 816, 531, 1350]\n"
          ]
        }
      ]
    },
    {
      "cell_type": "markdown",
      "metadata": {
        "id": "EeX7Oo_1XoS3"
      },
      "source": [
        "## Exclamation Count"
      ]
    },
    {
      "cell_type": "code",
      "metadata": {
        "colab": {
          "base_uri": "https://localhost:8080/"
        },
        "id": "3PHy6044Xxec",
        "outputId": "71609471-2695-412a-f32b-fb9dea279f56"
      },
      "source": [
        "exclamation_count=[]\n",
        "for i in range(1599):\n",
        "  res=get_exclamation_count(df['Review'].iloc[i])\n",
        "  exclamation_count.append(res)\n",
        "print(exclamation_count)"
      ],
      "execution_count": null,
      "outputs": [
        {
          "output_type": "stream",
          "name": "stdout",
          "text": [
            "[6, 0, 2, 2, 0, 2, 0, 1, 2, 1, 0, 1, 1, 0, 1, 0, 0, 0, 0, 0, 0, 6, 0, 0, 1, 0, 1, 0, 0, 0, 0, 0, 0, 4, 1, 0, 6, 1, 2, 0, 0, 0, 5, 0, 2, 1, 2, 0, 2, 0, 0, 2, 0, 0, 0, 0, 0, 1, 4, 3, 0, 1, 1, 1, 0, 3, 1, 1, 0, 1, 0, 2, 0, 0, 1, 0, 1, 0, 0, 0, 3, 1, 1, 0, 5, 1, 0, 0, 2, 1, 2, 1, 0, 5, 2, 4, 0, 0, 0, 2, 0, 0, 0, 1, 6, 5, 0, 2, 3, 2, 1, 0, 1, 0, 4, 0, 2, 0, 0, 0, 1, 6, 0, 0, 1, 0, 2, 0, 1, 1, 0, 2, 1, 2, 1, 0, 0, 0, 0, 2, 1, 2, 2, 0, 0, 1, 6, 1, 4, 0, 1, 0, 4, 0, 0, 2, 2, 5, 0, 0, 0, 1, 0, 3, 1, 4, 0, 0, 0, 6, 1, 0, 1, 2, 0, 0, 2, 0, 0, 3, 0, 5, 0, 4, 5, 1, 0, 1, 0, 2, 1, 1, 1, 0, 1, 1, 2, 10, 0, 0, 1, 4, 2, 0, 0, 0, 0, 0, 1, 3, 0, 1, 1, 2, 0, 4, 0, 0, 1, 0, 0, 0, 0, 1, 0, 1, 0, 2, 0, 1, 0, 6, 3, 1, 3, 1, 0, 2, 1, 2, 0, 0, 4, 1, 0, 1, 3, 1, 2, 1, 0, 0, 0, 2, 0, 3, 7, 0, 1, 2, 0, 0, 2, 1, 0, 2, 0, 1, 2, 0, 3, 3, 0, 0, 1, 0, 0, 0, 2, 0, 2, 0, 2, 3, 1, 0, 1, 1, 1, 4, 0, 5, 0, 3, 0, 1, 1, 1, 0, 7, 0, 1, 0, 0, 0, 2, 0, 0, 0, 0, 1, 0, 0, 0, 3, 0, 0, 0, 1, 2, 0, 0, 1, 1, 0, 1, 1, 1, 1, 0, 1, 0, 2, 4, 1, 1, 4, 0, 0, 3, 0, 0, 1, 1, 2, 4, 4, 0, 0, 2, 2, 1, 0, 3, 0, 1, 0, 0, 1, 0, 0, 4, 0, 0, 0, 0, 0, 1, 4, 3, 3, 1, 0, 0, 0, 0, 0, 0, 2, 0, 2, 4, 3, 0, 0, 3, 1, 0, 0, 9, 1, 2, 0, 0, 0, 0, 2, 0, 1, 2, 0, 1, 0, 1, 0, 2, 2, 2, 1, 0, 0, 0, 1, 1, 0, 0, 0, 0, 0, 0, 1, 0, 0, 3, 4, 2, 0, 0, 11, 1, 0, 0, 0, 0, 0, 0, 0, 0, 1, 1, 1, 0, 0, 0, 0, 0, 2, 0, 0, 1, 0, 0, 0, 0, 0, 3, 0, 0, 0, 2, 0, 2, 0, 0, 0, 1, 0, 0, 0, 1, 3, 0, 1, 0, 0, 0, 0, 0, 0, 0, 0, 0, 1, 3, 2, 1, 1, 0, 1, 2, 0, 0, 0, 2, 0, 1, 0, 0, 0, 0, 0, 0, 1, 7, 3, 0, 0, 0, 0, 0, 0, 1, 0, 0, 0, 0, 0, 0, 0, 0, 0, 0, 0, 0, 0, 0, 1, 0, 0, 0, 0, 4, 0, 0, 0, 1, 6, 2, 0, 1, 0, 2, 0, 0, 0, 0, 0, 3, 0, 1, 0, 0, 0, 0, 0, 0, 0, 0, 1, 1, 0, 1, 0, 0, 1, 0, 3, 0, 0, 8, 1, 1, 0, 3, 2, 1, 0, 2, 0, 2, 0, 1, 0, 8, 0, 0, 1, 4, 0, 1, 0, 1, 0, 0, 0, 1, 1, 6, 0, 3, 0, 0, 0, 1, 2, 2, 2, 1, 0, 0, 0, 3, 0, 0, 0, 2, 2, 0, 2, 1, 0, 0, 0, 1, 1, 1, 0, 0, 2, 2, 0, 0, 2, 0, 0, 1, 0, 0, 0, 0, 0, 1, 1, 3, 11, 0, 1, 3, 0, 0, 0, 0, 1, 1, 4, 1, 0, 0, 0, 0, 0, 0, 1, 0, 0, 0, 8, 2, 0, 0, 1, 2, 0, 0, 0, 0, 0, 0, 0, 0, 0, 2, 0, 0, 0, 0, 1, 2, 1, 0, 0, 0, 0, 2, 3, 0, 1, 0, 1, 0, 1, 0, 1, 6, 0, 0, 2, 4, 3, 5, 0, 0, 0, 0, 2, 0, 2, 2, 0, 1, 0, 0, 1, 0, 2, 0, 0, 0, 0, 1, 0, 3, 0, 0, 1, 4, 0, 4, 0, 0, 0, 1, 0, 0, 0, 0, 1, 0, 0, 0, 1, 1, 1, 0, 0, 0, 0, 2, 0, 0, 0, 0, 0, 1, 0, 0, 0, 0, 2, 0, 0, 0, 1, 0, 0, 1, 2, 0, 0, 0, 0, 1, 0, 0, 1, 4, 0, 0, 0, 0, 0, 1, 9, 0, 2, 0, 2, 0, 0, 0, 3, 0, 0, 0, 0, 0, 1, 0, 0, 0, 2, 2, 0, 0, 0, 2, 1, 0, 0, 0, 3, 0, 0, 1, 0, 4, 0, 0, 0, 0, 2, 3, 0, 0, 0, 0, 0, 0, 4, 1, 0, 3, 0, 0, 0, 0, 1, 0, 9, 0, 2, 1, 7, 0, 3, 0, 0, 6, 0, 0, 0, 0, 1, 0, 1, 2, 0, 0, 1, 3, 0, 2, 1, 0, 0, 3, 7, 1, 0, 0, 0, 0, 1, 2, 2, 1, 0, 0, 3, 0, 2, 0, 1, 2, 0, 0, 0, 0, 0, 1, 0, 1, 1, 0, 1, 5, 0, 4, 0, 0, 3, 0, 1, 0, 0, 1, 0, 0, 0, 1, 2, 0, 0, 1, 0, 9, 1, 3, 0, 1, 4, 0, 2, 1, 0, 0, 1, 0, 0, 0, 0, 0, 0, 3, 0, 0, 1, 0, 0, 1, 0, 2, 0, 1, 0, 1, 0, 0, 1, 1, 1, 0, 0, 0, 1, 0, 2, 0, 1, 1, 0, 0, 0, 1, 0, 0, 0, 1, 0, 0, 0, 3, 0, 1, 0, 1, 0, 0, 1, 0, 0, 0, 0, 3, 1, 0, 2, 0, 0, 0, 1, 0, 0, 1, 0, 0, 0, 1, 0, 1, 0, 1, 0, 1, 1, 0, 2, 0, 0, 0, 2, 5, 0, 0, 0, 0, 3, 0, 1, 0, 2, 0, 1, 0, 3, 0, 5, 0, 0, 0, 6, 0, 0, 0, 0, 0, 2, 0, 0, 3, 0, 2, 1, 0, 2, 0, 0, 1, 1, 3, 0, 0, 2, 2, 0, 0, 4, 0, 0, 0, 4, 0, 0, 0, 1, 0, 0, 0, 0, 0, 0, 3, 3, 5, 0, 3, 1, 0, 1, 0, 0, 5, 1, 1, 1, 0, 0, 2, 2, 0, 0, 0, 0, 0, 0, 1, 4, 0, 4, 0, 2, 1, 0, 0, 0, 0, 0, 1, 0, 0, 1, 0, 0, 6, 2, 0, 8, 0, 0, 2, 0, 0, 3, 0, 1, 2, 1, 1, 0, 0, 1, 0, 0, 0, 0, 0, 0, 8, 1, 0, 1, 1, 0, 0, 0, 1, 0, 1, 1, 3, 0, 0, 0, 1, 0, 1, 0, 0, 1, 0, 5, 0, 0, 0, 0, 6, 4, 0, 0, 2, 0, 0, 1, 4, 0, 0, 1, 0, 1, 1, 1, 0, 1, 0, 0, 0, 4, 0, 0, 0, 0, 0, 4, 0, 4, 16, 0, 1, 9, 4, 2, 0, 0, 3, 1, 1, 0, 0, 1, 0, 4, 0, 0, 1, 2, 0, 0, 0, 0, 0, 0, 6, 0, 6, 0, 0, 2, 0, 0, 16, 0, 0, 1, 0, 5, 0, 1, 1, 6, 0, 2, 3, 2, 0, 3, 0, 0, 0, 5, 0, 0, 0, 0, 0, 2, 0, 0, 0, 1, 0, 0, 0, 1, 0, 2, 1, 0, 0, 0, 1, 0, 0, 0, 0, 0, 0, 0, 0, 0, 0, 0, 0, 4, 1, 0, 0, 0, 3, 4, 0, 0, 1, 3, 1, 0, 0, 2, 0, 1, 1, 1, 0, 0, 0, 0, 1, 5, 0, 1, 0, 0, 1, 2, 0, 0, 8, 0, 1, 1, 1, 0, 0, 0, 0, 4, 2, 0, 0, 1, 0, 3, 2, 1, 1, 0, 0, 0, 0, 3, 0, 0, 0, 0, 0, 1, 2, 0, 0, 0, 0, 0, 3, 0, 0, 0, 0, 0, 0, 0, 3, 7, 1, 0, 2, 0, 0, 0, 1, 0, 0, 1, 4, 2, 1, 0, 1, 0, 0, 1, 0, 3, 10, 0, 0, 4, 6, 0, 0, 0, 4, 0, 0, 1, 0, 0, 2, 0, 0, 0, 6, 0, 3, 0, 1, 0, 0, 0, 0, 0, 0, 0, 1, 0, 0, 0, 1, 2, 0, 0, 1, 3, 0, 0, 9, 0, 0, 0, 0, 0, 2, 0, 0, 2, 1, 6, 3, 1, 3, 0, 5, 0, 0, 1, 1, 0, 6, 3, 0, 1, 2, 0, 1, 0, 0, 0, 1, 0, 0, 0, 0, 1, 0, 0, 2, 5, 1, 0, 0, 0, 2, 1, 0, 0, 1, 0, 0, 0, 0, 0, 4, 12, 0, 1, 0, 4, 1, 4, 0, 4, 0, 9, 0, 0, 0, 0, 0, 0, 0, 0, 0, 1, 0, 0, 2, 7, 4, 0, 0, 0, 0, 0, 0, 0, 0, 1, 0, 0, 0, 1, 1, 0, 0, 2, 0, 0, 0, 0, 2, 0, 0, 4, 1, 1, 1, 0, 1, 0, 0, 0, 1, 3, 0, 1, 4, 0, 3, 0, 0, 0, 0, 0, 0, 1, 0, 1, 0, 1, 4, 0, 0, 0, 1, 0, 0, 0, 8, 15, 0, 2, 0, 0, 0, 0, 3, 0, 1, 0, 1, 0, 0, 0, 1, 1, 0, 0, 0, 0, 1, 0]\n"
          ]
        }
      ]
    },
    {
      "cell_type": "markdown",
      "metadata": {
        "id": "dVPpw8XKX6f4"
      },
      "source": [
        "## Question Count"
      ]
    },
    {
      "cell_type": "code",
      "metadata": {
        "colab": {
          "base_uri": "https://localhost:8080/"
        },
        "id": "Xpuayu_IX95Q",
        "outputId": "6cf5c96f-f910-4392-973f-2f7b4346bdc2"
      },
      "source": [
        "question_count=[]\n",
        "for i in range(1599):\n",
        "  res=get_question_count(df['Review'].iloc[i])\n",
        "  question_count.append(res)\n",
        "print(question_count)"
      ],
      "execution_count": null,
      "outputs": [
        {
          "output_type": "stream",
          "name": "stdout",
          "text": [
            "[0, 0, 0, 0, 0, 0, 0, 0, 0, 0, 0, 0, 0, 0, 0, 0, 0, 0, 0, 1, 0, 0, 0, 0, 0, 1, 0, 0, 0, 0, 0, 0, 0, 0, 0, 0, 0, 1, 0, 0, 0, 0, 0, 0, 0, 0, 0, 0, 0, 0, 0, 0, 0, 0, 0, 0, 0, 0, 0, 0, 0, 0, 0, 0, 0, 0, 0, 0, 0, 0, 0, 0, 0, 0, 0, 0, 0, 0, 0, 0, 1, 0, 0, 0, 0, 0, 0, 0, 0, 0, 0, 0, 0, 0, 0, 0, 0, 0, 0, 0, 0, 0, 0, 0, 0, 0, 0, 0, 0, 0, 0, 1, 0, 0, 0, 0, 0, 0, 0, 0, 0, 0, 0, 0, 1, 0, 0, 0, 0, 0, 0, 0, 0, 0, 0, 0, 0, 0, 0, 0, 0, 0, 0, 0, 0, 0, 0, 0, 0, 0, 0, 0, 0, 0, 0, 0, 0, 0, 0, 0, 0, 0, 0, 0, 0, 1, 0, 0, 0, 0, 0, 0, 0, 0, 0, 0, 0, 0, 0, 0, 0, 0, 0, 0, 0, 0, 0, 0, 0, 0, 0, 0, 0, 0, 0, 1, 0, 0, 0, 0, 0, 0, 0, 0, 0, 0, 0, 1, 0, 0, 0, 0, 0, 0, 0, 0, 0, 0, 0, 0, 0, 0, 0, 0, 0, 0, 0, 0, 0, 0, 0, 0, 0, 0, 0, 0, 0, 0, 0, 0, 0, 0, 0, 0, 0, 0, 0, 0, 0, 3, 0, 0, 0, 0, 0, 0, 0, 0, 0, 0, 0, 0, 0, 0, 0, 0, 0, 0, 0, 0, 0, 0, 0, 0, 0, 0, 0, 0, 1, 0, 0, 0, 0, 0, 0, 0, 0, 0, 0, 0, 0, 0, 0, 0, 0, 0, 0, 0, 0, 0, 0, 0, 0, 0, 0, 0, 0, 0, 0, 0, 0, 0, 0, 0, 0, 0, 0, 0, 0, 0, 0, 0, 0, 0, 0, 0, 0, 0, 0, 1, 0, 0, 0, 0, 0, 0, 0, 0, 0, 1, 0, 0, 0, 0, 0, 0, 0, 0, 0, 0, 0, 0, 0, 0, 0, 0, 0, 0, 0, 0, 0, 0, 0, 0, 0, 0, 0, 0, 0, 0, 0, 0, 0, 0, 0, 0, 0, 0, 0, 0, 0, 0, 0, 0, 0, 0, 0, 0, 0, 0, 0, 0, 0, 0, 0, 0, 0, 0, 0, 0, 0, 0, 0, 0, 0, 0, 0, 0, 0, 1, 2, 0, 0, 0, 0, 1, 0, 0, 0, 0, 0, 0, 0, 0, 2, 0, 0, 0, 2, 0, 0, 0, 0, 0, 0, 0, 0, 0, 0, 0, 0, 0, 0, 0, 0, 0, 0, 0, 0, 0, 0, 0, 1, 0, 0, 0, 0, 0, 0, 0, 0, 0, 0, 0, 0, 0, 0, 0, 0, 0, 0, 0, 0, 0, 0, 0, 0, 0, 0, 0, 0, 0, 0, 2, 0, 0, 0, 0, 0, 0, 0, 0, 0, 0, 0, 0, 0, 0, 0, 0, 0, 0, 0, 0, 0, 0, 0, 0, 0, 0, 0, 0, 0, 0, 0, 0, 0, 0, 0, 0, 0, 0, 0, 0, 0, 0, 0, 0, 0, 0, 1, 0, 0, 0, 0, 0, 0, 0, 0, 0, 0, 0, 0, 0, 0, 0, 0, 0, 0, 0, 1, 0, 0, 1, 0, 0, 0, 0, 0, 0, 0, 0, 0, 0, 0, 0, 0, 0, 0, 0, 0, 1, 0, 0, 1, 0, 0, 0, 0, 0, 0, 0, 0, 0, 0, 0, 0, 0, 0, 0, 0, 0, 0, 0, 0, 0, 0, 1, 0, 0, 0, 0, 0, 0, 0, 0, 1, 2, 0, 0, 0, 0, 0, 0, 0, 0, 0, 0, 0, 0, 0, 0, 0, 0, 0, 0, 0, 0, 0, 0, 0, 0, 1, 0, 0, 0, 0, 0, 0, 0, 0, 0, 0, 0, 0, 1, 0, 1, 0, 1, 0, 0, 1, 0, 0, 0, 0, 0, 0, 1, 0, 0, 0, 0, 0, 1, 0, 3, 0, 0, 0, 0, 0, 0, 0, 0, 0, 0, 0, 0, 0, 0, 0, 0, 0, 0, 0, 0, 0, 0, 0, 0, 0, 0, 0, 0, 0, 1, 0, 1, 0, 1, 0, 0, 0, 2, 0, 0, 0, 0, 0, 0, 0, 0, 0, 0, 0, 0, 0, 0, 0, 0, 0, 0, 0, 0, 1, 0, 1, 0, 0, 0, 0, 0, 0, 1, 0, 0, 0, 0, 0, 0, 0, 0, 0, 0, 0, 0, 0, 0, 0, 0, 3, 0, 0, 0, 0, 0, 0, 0, 0, 0, 0, 0, 0, 0, 0, 0, 0, 0, 0, 0, 0, 0, 1, 0, 0, 0, 0, 0, 0, 0, 0, 0, 0, 0, 1, 0, 0, 0, 3, 1, 0, 0, 0, 0, 0, 0, 0, 0, 0, 0, 0, 0, 0, 0, 0, 0, 0, 0, 0, 0, 0, 0, 0, 0, 0, 0, 0, 0, 0, 0, 0, 0, 0, 0, 0, 0, 0, 0, 0, 0, 0, 0, 0, 0, 1, 0, 0, 0, 0, 0, 0, 0, 0, 0, 0, 0, 0, 0, 0, 0, 0, 0, 0, 0, 0, 1, 0, 0, 0, 0, 0, 0, 0, 0, 0, 0, 0, 1, 0, 0, 0, 0, 0, 0, 0, 0, 0, 0, 0, 0, 0, 0, 0, 0, 0, 0, 0, 0, 0, 0, 0, 0, 0, 0, 0, 0, 0, 0, 0, 0, 0, 0, 0, 0, 0, 0, 0, 0, 0, 0, 0, 0, 0, 0, 0, 0, 0, 0, 0, 0, 0, 0, 0, 1, 0, 0, 0, 0, 0, 0, 0, 0, 0, 0, 0, 0, 0, 0, 0, 0, 0, 0, 0, 1, 0, 0, 0, 0, 0, 0, 0, 0, 0, 0, 0, 0, 0, 0, 0, 0, 0, 0, 0, 0, 0, 0, 0, 0, 0, 0, 0, 0, 0, 0, 0, 0, 0, 0, 0, 0, 0, 0, 0, 0, 0, 0, 0, 0, 0, 0, 0, 0, 0, 0, 0, 0, 0, 0, 0, 0, 0, 0, 0, 0, 0, 0, 0, 0, 0, 0, 0, 0, 0, 0, 0, 0, 0, 0, 0, 0, 0, 0, 0, 0, 0, 0, 0, 1, 0, 0, 0, 0, 0, 0, 0, 0, 0, 0, 0, 0, 0, 0, 0, 0, 0, 0, 0, 0, 0, 0, 2, 0, 0, 2, 0, 0, 1, 0, 0, 0, 0, 0, 0, 0, 0, 0, 0, 0, 0, 0, 0, 0, 0, 0, 0, 0, 0, 0, 1, 0, 0, 0, 0, 0, 0, 1, 0, 0, 0, 0, 1, 0, 0, 0, 0, 0, 0, 0, 0, 0, 0, 0, 0, 0, 0, 0, 0, 0, 0, 0, 0, 0, 0, 0, 0, 0, 0, 0, 0, 0, 0, 2, 0, 0, 0, 0, 0, 1, 0, 0, 0, 0, 0, 0, 0, 0, 0, 0, 0, 0, 0, 0, 0, 0, 0, 2, 0, 0, 0, 0, 0, 0, 0, 0, 1, 0, 0, 0, 0, 0, 0, 0, 0, 0, 0, 0, 0, 0, 0, 0, 0, 0, 0, 0, 0, 0, 0, 0, 0, 0, 0, 4, 0, 0, 0, 0, 0, 0, 0, 0, 0, 0, 0, 0, 0, 0, 0, 0, 0, 0, 1, 0, 2, 0, 0, 1, 0, 2, 0, 1, 0, 6, 0, 0, 0, 0, 0, 0, 0, 0, 1, 0, 0, 0, 0, 0, 0, 0, 0, 0, 4, 2, 0, 3, 0, 0, 0, 0, 0, 0, 2, 0, 0, 0, 0, 0, 0, 0, 0, 0, 0, 0, 1, 0, 0, 0, 0, 0, 0, 0, 0, 0, 0, 0, 0, 0, 0, 2, 0, 0, 1, 0, 0, 0, 0, 0, 0, 2, 0, 0, 2, 0, 0, 0, 0, 0, 0, 3, 1, 0, 0, 0, 0, 0, 0, 0, 1, 0, 0, 0, 0, 0, 0, 0, 0, 0, 1, 0, 0, 0, 0, 0, 0, 0, 0, 0, 0, 0, 0, 0, 0, 0, 0, 0, 0, 0, 2, 0, 0, 0, 0, 0, 0, 9, 0, 0, 0, 0, 1, 0, 1, 0, 0, 0, 0, 1, 4, 0, 0, 0, 0, 0, 0, 1, 0, 2, 0, 0, 0, 0, 0, 0, 0, 0, 0, 0, 0, 6, 1, 1, 0, 0, 0, 0, 0, 0, 0, 0, 0, 0, 0, 2, 0, 1, 0, 0, 2, 0, 0, 0, 0, 0, 6, 0, 1, 1, 0, 0, 0, 0, 0, 0, 0, 0, 1, 0, 0, 0, 4, 0, 0, 0, 0, 0, 0, 0, 0, 0, 0, 0, 0, 0, 0, 0, 0, 0, 0, 0, 0, 0, 0, 3, 0, 0, 0, 0, 0, 0, 1, 0, 0, 0, 0, 0, 0, 0, 0, 0, 0, 0, 0, 0, 0, 1, 0, 0, 0, 0, 0, 1, 0, 0, 0, 0, 0, 0, 0, 0, 0, 0, 0, 0, 2, 0, 0, 0, 0, 0, 0, 0, 0, 0, 0, 0, 0, 0, 0, 0, 0, 0, 1, 0, 0, 0, 0, 0, 0, 0, 0, 0, 0, 0, 0, 0, 0, 0, 0, 0, 0, 0, 0, 0, 0, 0, 0, 0, 0, 0, 0, 0, 3, 1, 0, 1, 0, 0, 0, 0, 0, 0, 0, 0, 0, 0, 0, 0, 0, 1, 0, 0, 0, 0, 0, 0, 0, 0, 0, 0, 0, 2, 0, 3, 1, 0, 0, 0, 0, 0, 0, 0, 5, 0, 0, 0, 0, 0, 0, 1, 0, 0, 5, 0, 0, 5, 3, 0, 0, 0, 1, 1, 0, 1, 0, 0, 0, 0, 0, 1, 0, 0, 1, 0, 0, 0, 0, 0, 0]\n"
          ]
        }
      ]
    },
    {
      "cell_type": "markdown",
      "metadata": {
        "id": "Hef8krbdYD2w"
      },
      "source": [
        "# Adding the new features as columns to the dataframe"
      ]
    },
    {
      "cell_type": "code",
      "metadata": {
        "id": "aYj9Y2fpYJNQ"
      },
      "source": [
        "df['punctuation_count'] = punctuation_count\n",
        "df['character_count'] = character_count\n",
        "df['exclamation_count'] = exclamation_count\n",
        "df['question_count'] = question_count"
      ],
      "execution_count": null,
      "outputs": []
    },
    {
      "cell_type": "code",
      "metadata": {
        "colab": {
          "base_uri": "https://localhost:8080/",
          "height": 419
        },
        "id": "E9iLYH36YlgR",
        "outputId": "eeea0f90-b9d4-4b42-bc63-4139fedb288a"
      },
      "source": [
        "df"
      ],
      "execution_count": null,
      "outputs": [
        {
          "output_type": "execute_result",
          "data": {
            "text/html": [
              "<div>\n",
              "<style scoped>\n",
              "    .dataframe tbody tr th:only-of-type {\n",
              "        vertical-align: middle;\n",
              "    }\n",
              "\n",
              "    .dataframe tbody tr th {\n",
              "        vertical-align: top;\n",
              "    }\n",
              "\n",
              "    .dataframe thead th {\n",
              "        text-align: right;\n",
              "    }\n",
              "</style>\n",
              "<table border=\"1\" class=\"dataframe\">\n",
              "  <thead>\n",
              "    <tr style=\"text-align: right;\">\n",
              "      <th></th>\n",
              "      <th>Review</th>\n",
              "      <th>Pos or Neg</th>\n",
              "      <th>True or False</th>\n",
              "      <th>punctuation_count</th>\n",
              "      <th>character_count</th>\n",
              "      <th>exclamation_count</th>\n",
              "      <th>question_count</th>\n",
              "    </tr>\n",
              "  </thead>\n",
              "  <tbody>\n",
              "    <tr>\n",
              "      <th>0</th>\n",
              "      <td>0,\"The Hilton Chicago was amazing!! It is clos...</td>\n",
              "      <td>1</td>\n",
              "      <td>0</td>\n",
              "      <td>20</td>\n",
              "      <td>294</td>\n",
              "      <td>6</td>\n",
              "      <td>0</td>\n",
              "    </tr>\n",
              "    <tr>\n",
              "      <th>1</th>\n",
              "      <td>1,Excellent hotel in the heart of Chicago. The...</td>\n",
              "      <td>1</td>\n",
              "      <td>0</td>\n",
              "      <td>8</td>\n",
              "      <td>304</td>\n",
              "      <td>0</td>\n",
              "      <td>0</td>\n",
              "    </tr>\n",
              "    <tr>\n",
              "      <th>2</th>\n",
              "      <td>2,\"I stayed at the Hilton Chicago for my cousi...</td>\n",
              "      <td>1</td>\n",
              "      <td>0</td>\n",
              "      <td>15</td>\n",
              "      <td>464</td>\n",
              "      <td>2</td>\n",
              "      <td>0</td>\n",
              "    </tr>\n",
              "    <tr>\n",
              "      <th>3</th>\n",
              "      <td>3,\"The Downtown Chicago Hilton was the best co...</td>\n",
              "      <td>1</td>\n",
              "      <td>0</td>\n",
              "      <td>18</td>\n",
              "      <td>452</td>\n",
              "      <td>2</td>\n",
              "      <td>0</td>\n",
              "    </tr>\n",
              "    <tr>\n",
              "      <th>4</th>\n",
              "      <td>4,The Chicago Hilton is a great hotel our stay...</td>\n",
              "      <td>1</td>\n",
              "      <td>0</td>\n",
              "      <td>6</td>\n",
              "      <td>328</td>\n",
              "      <td>0</td>\n",
              "      <td>0</td>\n",
              "    </tr>\n",
              "    <tr>\n",
              "      <th>...</th>\n",
              "      <td>...</td>\n",
              "      <td>...</td>\n",
              "      <td>...</td>\n",
              "      <td>...</td>\n",
              "      <td>...</td>\n",
              "      <td>...</td>\n",
              "      <td>...</td>\n",
              "    </tr>\n",
              "    <tr>\n",
              "      <th>1594</th>\n",
              "      <td>394,\"I have stayed in the Talbott a few times ...</td>\n",
              "      <td>0</td>\n",
              "      <td>1</td>\n",
              "      <td>21</td>\n",
              "      <td>875</td>\n",
              "      <td>0</td>\n",
              "      <td>0</td>\n",
              "    </tr>\n",
              "    <tr>\n",
              "      <th>1595</th>\n",
              "      <td>395,\"We reserved a room with a sleeper couch a...</td>\n",
              "      <td>0</td>\n",
              "      <td>1</td>\n",
              "      <td>22</td>\n",
              "      <td>752</td>\n",
              "      <td>0</td>\n",
              "      <td>0</td>\n",
              "    </tr>\n",
              "    <tr>\n",
              "      <th>1596</th>\n",
              "      <td>396,\"I can easily say this is one of the worst...</td>\n",
              "      <td>0</td>\n",
              "      <td>1</td>\n",
              "      <td>26</td>\n",
              "      <td>816</td>\n",
              "      <td>0</td>\n",
              "      <td>0</td>\n",
              "    </tr>\n",
              "    <tr>\n",
              "      <th>1597</th>\n",
              "      <td>397,\"Just back from spending Memorial Day week...</td>\n",
              "      <td>0</td>\n",
              "      <td>1</td>\n",
              "      <td>22</td>\n",
              "      <td>531</td>\n",
              "      <td>1</td>\n",
              "      <td>0</td>\n",
              "    </tr>\n",
              "    <tr>\n",
              "      <th>1598</th>\n",
              "      <td>398,\"I can't recall another time I've had to d...</td>\n",
              "      <td>0</td>\n",
              "      <td>1</td>\n",
              "      <td>49</td>\n",
              "      <td>1350</td>\n",
              "      <td>0</td>\n",
              "      <td>0</td>\n",
              "    </tr>\n",
              "  </tbody>\n",
              "</table>\n",
              "<p>1599 rows × 7 columns</p>\n",
              "</div>"
            ],
            "text/plain": [
              "                                                 Review  ...  question_count\n",
              "0     0,\"The Hilton Chicago was amazing!! It is clos...  ...               0\n",
              "1     1,Excellent hotel in the heart of Chicago. The...  ...               0\n",
              "2     2,\"I stayed at the Hilton Chicago for my cousi...  ...               0\n",
              "3     3,\"The Downtown Chicago Hilton was the best co...  ...               0\n",
              "4     4,The Chicago Hilton is a great hotel our stay...  ...               0\n",
              "...                                                 ...  ...             ...\n",
              "1594  394,\"I have stayed in the Talbott a few times ...  ...               0\n",
              "1595  395,\"We reserved a room with a sleeper couch a...  ...               0\n",
              "1596  396,\"I can easily say this is one of the worst...  ...               0\n",
              "1597  397,\"Just back from spending Memorial Day week...  ...               0\n",
              "1598  398,\"I can't recall another time I've had to d...  ...               0\n",
              "\n",
              "[1599 rows x 7 columns]"
            ]
          },
          "metadata": {},
          "execution_count": 36
        }
      ]
    },
    {
      "cell_type": "markdown",
      "source": [
        "# Splitting the dataset"
      ],
      "metadata": {
        "id": "TL12GB9XqmGJ"
      }
    },
    {
      "cell_type": "code",
      "source": [
        "#copying the label to another array before removing it from the dataframe\n",
        "y = df['True or False']\n",
        "x = df\n",
        "x.drop('True or False', axis=1, inplace=True)"
      ],
      "metadata": {
        "id": "hn1f4XbQqp6N"
      },
      "execution_count": null,
      "outputs": []
    },
    {
      "cell_type": "code",
      "source": [
        "from sklearn.model_selection import train_test_split\n",
        "x_train, x_test, y_train, y_test = train_test_split(x, y, test_size=0.2, random_state=42)\n",
        "final_ngram_list = get_selected_ngrams(2000, 0, 0, x_train)"
      ],
      "metadata": {
        "id": "CGG-s4Ocx2pY"
      },
      "execution_count": null,
      "outputs": []
    },
    {
      "cell_type": "code",
      "source": [
        "x_train = create_vector_list(final_ngram_list, x_train)\n",
        "x_test = create_vector_list(final_ngram_list, x_test)"
      ],
      "metadata": {
        "id": "7yLeQjj4MCl6"
      },
      "execution_count": null,
      "outputs": []
    },
    {
      "cell_type": "code",
      "source": [
        "from sklearn.preprocessing import StandardScaler\n",
        "scaler = StandardScaler().fit(x_train)\n",
        "x_train_std = scaler.transform(x_train)\n",
        "x_test_std = scaler.transform(x_test) "
      ],
      "metadata": {
        "id": "7jbASq5gMC2P"
      },
      "execution_count": null,
      "outputs": []
    },
    {
      "cell_type": "code",
      "source": [
        "print (x_train_std)"
      ],
      "metadata": {
        "colab": {
          "base_uri": "https://localhost:8080/"
        },
        "id": "sBXdSEEFNhJH",
        "outputId": "0ec54922-9a80-4fb1-9c90-4f4f6c72ee72"
      },
      "execution_count": null,
      "outputs": [
        {
          "output_type": "stream",
          "name": "stdout",
          "text": [
            "[[ 0.          0.          0.         ...  0.55460871 -0.21532761\n",
            "  -1.00863777]\n",
            " [ 0.          0.          0.         ... -0.56423126 -0.21532761\n",
            "   0.9914362 ]\n",
            " [ 0.          0.          0.         ... -0.00481127 -0.21532761\n",
            "   0.9914362 ]\n",
            " ...\n",
            " [ 0.          0.          0.         ... -0.56423126 -0.21532761\n",
            "   0.9914362 ]\n",
            " [ 0.          0.          0.         ...  0.55460871 -0.21532761\n",
            "  -1.00863777]\n",
            " [ 0.          0.          0.         ...  3.91112864 -0.21532761\n",
            "   0.9914362 ]]\n"
          ]
        }
      ]
    },
    {
      "cell_type": "markdown",
      "source": [
        "# Machine Learning Models"
      ],
      "metadata": {
        "id": "WqfC5FcHMXC5"
      }
    },
    {
      "cell_type": "markdown",
      "source": [
        "## Linear Support Vector Classifier"
      ],
      "metadata": {
        "id": "vawif0UTL-5f"
      }
    },
    {
      "cell_type": "code",
      "source": [
        "from sklearn.svm import SVC\n",
        "from sklearn.metrics import accuracy_score\n",
        "clf = svm.SVC(kernel='linear')\n",
        "clf.fit(x_train_std, y_train)\n",
        "y_pred = clf.predict(x_test_std)\n",
        "print(accuracy_score(y_test,y_pred))\n",
        "\n"
      ],
      "metadata": {
        "colab": {
          "base_uri": "https://localhost:8080/"
        },
        "id": "9_AwhlmAMZek",
        "outputId": "03d19080-885e-446d-e655-24d720eaf400"
      },
      "execution_count": null,
      "outputs": [
        {
          "output_type": "stream",
          "name": "stdout",
          "text": [
            "0.678125\n"
          ]
        }
      ]
    },
    {
      "cell_type": "markdown",
      "source": [
        "## Naive Bayes Classifier"
      ],
      "metadata": {
        "id": "uYWFu4k2bLeS"
      }
    },
    {
      "cell_type": "code",
      "source": [
        "from sklearn.naive_bayes import GaussianNB\n",
        "clf = GaussianNB()\n",
        "clf.fit(x_train_std,y_train)y_pred = clf.predict(x_test_std)\n",
        "print (accuracy_score(y_test,y_pred))"
      ],
      "metadata": {
        "colab": {
          "base_uri": "https://localhost:8080/"
        },
        "id": "7Gm89Wqabqya",
        "outputId": "121729bb-ba26-4282-a6a8-d177bea324a5"
      },
      "execution_count": null,
      "outputs": [
        {
          "output_type": "stream",
          "name": "stdout",
          "text": [
            "0.553125\n"
          ]
        }
      ]
    },
    {
      "cell_type": "markdown",
      "source": [
        "## KNeighborsClassifier"
      ],
      "metadata": {
        "id": "LR8tZxj1u27o"
      }
    },
    {
      "cell_type": "code",
      "source": [
        "from sklearn.neighbors import KNeighborsClassifier\n",
        "clf = KNeighborsClassifier(n_neighbors=10)\n",
        "clf.fit(x_train_std,y_train)\n",
        "y_pred = clf.predict(x_test_std)\n",
        "print (accuracy_score(y_test,y_pred))"
      ],
      "metadata": {
        "colab": {
          "base_uri": "https://localhost:8080/"
        },
        "id": "aQi3ufc2df3W",
        "outputId": "9e34b694-a1d8-4667-fb61-ec0a329b202f"
      },
      "execution_count": null,
      "outputs": [
        {
          "output_type": "stream",
          "name": "stdout",
          "text": [
            "0.603125\n"
          ]
        }
      ]
    },
    {
      "cell_type": "markdown",
      "source": [
        "## Logistic Regression"
      ],
      "metadata": {
        "id": "4QYZ5Mo3vAli"
      }
    },
    {
      "cell_type": "code",
      "source": [
        "from sklearn.linear_model import LogisticRegression\n",
        "clf = LogisticRegression()\n",
        "clf.fit(x_train_std,y_train)\n",
        "y_pred = clf.predict(x_test_std)\n",
        "print (accuracy_score(y_test,y_pred))"
      ],
      "metadata": {
        "colab": {
          "base_uri": "https://localhost:8080/"
        },
        "id": "uAGxFEehdTlV",
        "outputId": "b25ce7d7-c620-4032-a7e4-916d8517c3f5"
      },
      "execution_count": null,
      "outputs": [
        {
          "output_type": "stream",
          "name": "stdout",
          "text": [
            "0.68125\n"
          ]
        }
      ]
    },
    {
      "cell_type": "markdown",
      "source": [
        "# Hyperparameter Tuning"
      ],
      "metadata": {
        "id": "Xr0XcXSBvEeA"
      }
    },
    {
      "cell_type": "markdown",
      "source": [
        "## Tuning Linear SVC"
      ],
      "metadata": {
        "id": "87gK-510Mjal"
      }
    },
    {
      "cell_type": "code",
      "source": [
        "clf = svm.SVC(kernel='linear')\n",
        "clf.fit(x_train_std,y_train)"
      ],
      "metadata": {
        "id": "QjuitOElvJyH"
      },
      "execution_count": null,
      "outputs": []
    },
    {
      "cell_type": "code",
      "source": [
        "from sklearn.model_selection import RandomizedSearchCV\n",
        "from scipy.stats import reciprocal, uniform\n",
        "param_distributions = {\"C\": uniform(1, 10)}\n",
        "rnd_search_cv = RandomizedSearchCV(clf, param_distributions, n_iter=10, verbose=2, cv=3)\n",
        "rnd_search_cv.fit(x_train_std, y_train)"
      ],
      "metadata": {
        "colab": {
          "base_uri": "https://localhost:8080/"
        },
        "id": "A-A8ZbHvRyyN",
        "outputId": "b359a178-5465-44ba-bb1b-3f29909df5a2"
      },
      "execution_count": null,
      "outputs": [
        {
          "output_type": "stream",
          "name": "stdout",
          "text": [
            "Fitting 3 folds for each of 10 candidates, totalling 30 fits\n",
            "[CV] END .................................C=3.93889725208372; total time=   0.1s\n",
            "[CV] END .................................C=3.93889725208372; total time=   0.1s\n",
            "[CV] END .................................C=3.93889725208372; total time=   0.0s\n",
            "[CV] END .................................C=9.65622790121861; total time=   0.1s\n",
            "[CV] END .................................C=9.65622790121861; total time=   0.1s\n",
            "[CV] END .................................C=9.65622790121861; total time=   0.1s\n",
            "[CV] END ...............................C=2.5359394353820246; total time=   0.0s\n",
            "[CV] END ...............................C=2.5359394353820246; total time=   0.0s\n",
            "[CV] END ...............................C=2.5359394353820246; total time=   0.0s\n",
            "[CV] END ................................C=3.263786453450758; total time=   0.1s\n",
            "[CV] END ................................C=3.263786453450758; total time=   0.0s\n",
            "[CV] END ................................C=3.263786453450758; total time=   0.0s\n",
            "[CV] END ................................C=4.507685232627908; total time=   0.1s\n",
            "[CV] END ................................C=4.507685232627908; total time=   0.1s\n",
            "[CV] END ................................C=4.507685232627908; total time=   0.0s\n",
            "[CV] END ................................C=2.604916763781911; total time=   0.0s\n",
            "[CV] END ................................C=2.604916763781911; total time=   0.0s\n",
            "[CV] END ................................C=2.604916763781911; total time=   0.0s\n",
            "[CV] END ................................C=9.382287860842606; total time=   0.1s\n",
            "[CV] END ................................C=9.382287860842606; total time=   0.1s\n",
            "[CV] END ................................C=9.382287860842606; total time=   0.1s\n",
            "[CV] END ................................C=6.317810538789043; total time=   0.1s\n",
            "[CV] END ................................C=6.317810538789043; total time=   0.1s\n",
            "[CV] END ................................C=6.317810538789043; total time=   0.1s\n",
            "[CV] END ................................C=4.335569632676404; total time=   0.1s\n",
            "[CV] END ................................C=4.335569632676404; total time=   0.1s\n",
            "[CV] END ................................C=4.335569632676404; total time=   0.0s\n",
            "[CV] END ...............................C=1.4902816611622973; total time=   0.0s\n",
            "[CV] END ...............................C=1.4902816611622973; total time=   0.0s\n",
            "[CV] END ...............................C=1.4902816611622973; total time=   0.0s\n"
          ]
        },
        {
          "output_type": "execute_result",
          "data": {
            "text/plain": [
              "RandomizedSearchCV(cv=3, estimator=SVC(kernel='linear'),\n",
              "                   param_distributions={'C': <scipy.stats._distn_infrastructure.rv_frozen object at 0x7fb769f88fd0>},\n",
              "                   verbose=2)"
            ]
          },
          "metadata": {},
          "execution_count": 87
        }
      ]
    },
    {
      "cell_type": "code",
      "source": [
        "rnd_search_cv.best_estimator_"
      ],
      "metadata": {
        "colab": {
          "base_uri": "https://localhost:8080/"
        },
        "id": "jIaYfTWrYByq",
        "outputId": "e5170fc9-2907-4679-8f36-35681b17c771"
      },
      "execution_count": null,
      "outputs": [
        {
          "output_type": "execute_result",
          "data": {
            "text/plain": [
              "SVC(C=4.507685232627908, kernel='linear')"
            ]
          },
          "metadata": {},
          "execution_count": 88
        }
      ]
    },
    {
      "cell_type": "code",
      "source": [
        "rnd_search_cv.best_score_"
      ],
      "metadata": {
        "colab": {
          "base_uri": "https://localhost:8080/"
        },
        "id": "taqRxd--YIBt",
        "outputId": "6c375453-ed21-421f-931d-38a31476498b"
      },
      "execution_count": null,
      "outputs": [
        {
          "output_type": "execute_result",
          "data": {
            "text/plain": [
              "0.6489336749092002"
            ]
          },
          "metadata": {},
          "execution_count": 89
        }
      ]
    },
    {
      "cell_type": "code",
      "source": [
        "rnd_search_cv.best_estimator_.fit(x_train_std, y_train)"
      ],
      "metadata": {
        "colab": {
          "base_uri": "https://localhost:8080/"
        },
        "id": "0WXvEamDYQix",
        "outputId": "d6a6d662-be34-4229-a9ef-b26b8e1e1a83"
      },
      "execution_count": null,
      "outputs": [
        {
          "output_type": "execute_result",
          "data": {
            "text/plain": [
              "SVC(C=4.507685232627908, kernel='linear')"
            ]
          },
          "metadata": {},
          "execution_count": 90
        }
      ]
    },
    {
      "cell_type": "code",
      "source": [
        "y_pred = rnd_search_cv.best_estimator_.predict(x_test_std)\n",
        "accuracy_score(y_test, y_pred)"
      ],
      "metadata": {
        "colab": {
          "base_uri": "https://localhost:8080/"
        },
        "id": "AfGhj8xwYaGz",
        "outputId": "a3fc771f-2ffe-4076-9300-ac1a3ff17b70"
      },
      "execution_count": null,
      "outputs": [
        {
          "output_type": "execute_result",
          "data": {
            "text/plain": [
              "0.678125"
            ]
          },
          "metadata": {},
          "execution_count": 91
        }
      ]
    },
    {
      "cell_type": "markdown",
      "source": [
        "## Tuning Logistic Regression"
      ],
      "metadata": {
        "id": "ZGAGMLOlMmwt"
      }
    },
    {
      "cell_type": "code",
      "source": [
        "clf = LogisticRegression()\n",
        "clf.fit(x_train_std,y_train)"
      ],
      "metadata": {
        "id": "nsqP3b7Rv1T3"
      },
      "execution_count": null,
      "outputs": []
    },
    {
      "cell_type": "code",
      "source": [
        "from sklearn.model_selection import GridSearchCV\n",
        "c_space = np.logspace(-5, 8, 15)\n",
        "param_grid = {'C': c_space}\n",
        "logreg_cv = GridSearchCV(clf, param_grid, cv = 5)\n",
        "logreg_cv.fit(x_train_std, y_train)"
      ],
      "metadata": {
        "colab": {
          "base_uri": "https://localhost:8080/"
        },
        "id": "kn73-JZAf6TD",
        "outputId": "3e9a40fb-0eb0-46e9-a747-cf91797485dc"
      },
      "execution_count": null,
      "outputs": [
        {
          "output_type": "execute_result",
          "data": {
            "text/plain": [
              "GridSearchCV(cv=5, estimator=LogisticRegression(),\n",
              "             param_grid={'C': array([1.00000000e-05, 8.48342898e-05, 7.19685673e-04, 6.10540230e-03,\n",
              "       5.17947468e-02, 4.39397056e-01, 3.72759372e+00, 3.16227766e+01,\n",
              "       2.68269580e+02, 2.27584593e+03, 1.93069773e+04, 1.63789371e+05,\n",
              "       1.38949549e+06, 1.17876863e+07, 1.00000000e+08])})"
            ]
          },
          "metadata": {},
          "execution_count": 119
        }
      ]
    },
    {
      "cell_type": "code",
      "source": [
        "logreg_cv.best_estimator_.fit(x_train_std, y_train)"
      ],
      "metadata": {
        "colab": {
          "base_uri": "https://localhost:8080/"
        },
        "id": "ALeyBYwPhN88",
        "outputId": "c9cc1d7e-9edd-4979-d159-673095259e9b"
      },
      "execution_count": null,
      "outputs": [
        {
          "output_type": "execute_result",
          "data": {
            "text/plain": [
              "LogisticRegression(C=3.727593720314938)"
            ]
          },
          "metadata": {},
          "execution_count": 120
        }
      ]
    },
    {
      "cell_type": "code",
      "source": [
        "y_pred = logreg_cv.best_estimator_.predict(x_test_std)\n",
        "accuracy_score(y_test, y_pred)"
      ],
      "metadata": {
        "colab": {
          "base_uri": "https://localhost:8080/"
        },
        "id": "6ymrOHrAhl5N",
        "outputId": "639e1642-7282-48b1-d131-e3d53b25d05f"
      },
      "execution_count": null,
      "outputs": [
        {
          "output_type": "execute_result",
          "data": {
            "text/plain": [
              "0.68125"
            ]
          },
          "metadata": {},
          "execution_count": 121
        }
      ]
    },
    {
      "cell_type": "code",
      "source": [
        "from sklearn.model_selection import RandomizedSearchCV\n",
        "from scipy.stats import reciprocal, uniform\n",
        "param_distributions = {\"C\": uniform(1, 10)}\n",
        "rnd_search_cv = RandomizedSearchCV(clf, param_distributions, n_iter=10, verbose=2, cv=3)\n",
        "rnd_search_cv.fit(x_train_std, y_train)"
      ],
      "metadata": {
        "colab": {
          "base_uri": "https://localhost:8080/"
        },
        "id": "DFxZLRpeh9zK",
        "outputId": "1b95e1b2-dd5a-48c0-b002-7111b6f767da"
      },
      "execution_count": null,
      "outputs": [
        {
          "output_type": "stream",
          "name": "stdout",
          "text": [
            "Fitting 3 folds for each of 10 candidates, totalling 30 fits\n",
            "[CV] END ................................C=8.031788449927515; total time=   0.0s\n",
            "[CV] END ................................C=8.031788449927515; total time=   0.0s\n",
            "[CV] END ................................C=8.031788449927515; total time=   0.0s\n",
            "[CV] END ...............................C=2.0090924817058164; total time=   0.0s\n",
            "[CV] END ...............................C=2.0090924817058164; total time=   0.0s\n",
            "[CV] END ...............................C=2.0090924817058164; total time=   0.0s\n",
            "[CV] END ................................C=6.029083296345009; total time=   0.0s\n",
            "[CV] END ................................C=6.029083296345009; total time=   0.0s\n",
            "[CV] END ................................C=6.029083296345009; total time=   0.0s\n",
            "[CV] END ................................C=5.898408204262755; total time=   0.0s\n",
            "[CV] END ................................C=5.898408204262755; total time=   0.0s\n",
            "[CV] END ................................C=5.898408204262755; total time=   0.0s\n",
            "[CV] END ................................C=6.942095861328309; total time=   0.0s\n",
            "[CV] END ................................C=6.942095861328309; total time=   0.0s\n",
            "[CV] END ................................C=6.942095861328309; total time=   0.0s\n",
            "[CV] END ................................C=5.694974109126316; total time=   0.0s\n",
            "[CV] END ................................C=5.694974109126316; total time=   0.0s\n",
            "[CV] END ................................C=5.694974109126316; total time=   0.0s\n",
            "[CV] END ...............................C=3.3748704846110833; total time=   0.0s\n",
            "[CV] END ...............................C=3.3748704846110833; total time=   0.0s\n",
            "[CV] END ...............................C=3.3748704846110833; total time=   0.0s\n",
            "[CV] END ...............................C=2.7585774678681454; total time=   0.0s\n",
            "[CV] END ...............................C=2.7585774678681454; total time=   0.0s\n",
            "[CV] END ...............................C=2.7585774678681454; total time=   0.0s\n",
            "[CV] END ................................C=7.143374422690188; total time=   0.0s\n",
            "[CV] END ................................C=7.143374422690188; total time=   0.0s\n",
            "[CV] END ................................C=7.143374422690188; total time=   0.0s\n",
            "[CV] END ................................C=7.949698031115997; total time=   0.0s\n",
            "[CV] END ................................C=7.949698031115997; total time=   0.0s\n",
            "[CV] END ................................C=7.949698031115997; total time=   0.0s\n"
          ]
        },
        {
          "output_type": "execute_result",
          "data": {
            "text/plain": [
              "RandomizedSearchCV(cv=3, estimator=LogisticRegression(),\n",
              "                   param_distributions={'C': <scipy.stats._distn_infrastructure.rv_frozen object at 0x7fb75fd1b3d0>},\n",
              "                   verbose=2)"
            ]
          },
          "metadata": {},
          "execution_count": 123
        }
      ]
    },
    {
      "cell_type": "code",
      "source": [
        "rnd_search_cv.best_estimator_.fit(x_train_std, y_train)"
      ],
      "metadata": {
        "colab": {
          "base_uri": "https://localhost:8080/"
        },
        "id": "mwDI217hiDM_",
        "outputId": "6ed84603-2889-44bd-f65a-3c7e1c1442bd"
      },
      "execution_count": null,
      "outputs": [
        {
          "output_type": "execute_result",
          "data": {
            "text/plain": [
              "LogisticRegression(C=2.0090924817058164)"
            ]
          },
          "metadata": {},
          "execution_count": 124
        }
      ]
    },
    {
      "cell_type": "code",
      "source": [
        "y_pred = rnd_search_cv.best_estimator_.predict(x_test_std)\n",
        "accuracy_score(y_test, y_pred)"
      ],
      "metadata": {
        "colab": {
          "base_uri": "https://localhost:8080/"
        },
        "id": "5S_4FnQFi73K",
        "outputId": "49675db1-9833-47f4-bef2-d70e1e093bf4"
      },
      "execution_count": null,
      "outputs": [
        {
          "output_type": "execute_result",
          "data": {
            "text/plain": [
              "0.68125"
            ]
          },
          "metadata": {},
          "execution_count": 125
        }
      ]
    },
    {
      "cell_type": "markdown",
      "source": [
        "#Evaluation Metrics"
      ],
      "metadata": {
        "id": "ZrtL-s08EH5M"
      }
    },
    {
      "cell_type": "code",
      "source": [
        "from sklearn.metrics import precision_score, f1_score, confusion_matrix"
      ],
      "metadata": {
        "id": "gypnpSS2ESka"
      },
      "execution_count": null,
      "outputs": []
    },
    {
      "cell_type": "markdown",
      "source": [
        "#Results"
      ],
      "metadata": {
        "id": "W7pXuRkIETZB"
      }
    },
    {
      "cell_type": "code",
      "source": [
        "print(\"Accuracy score:\",accuracy_score(y_test, y_pred))\n",
        "print(\"Precision score:\",precision_score(y_test, y_pred))\n",
        "print(\"F1 score:\",f1_score(y_test, y_pred))\n",
        "print(\"Confusion Matrix:\",confusion_matrix(y_test, y_pred))"
      ],
      "metadata": {
        "colab": {
          "base_uri": "https://localhost:8080/"
        },
        "id": "37tsGObiwaLv",
        "outputId": "cc512ae9-b07d-442e-ac96-81181cbb5283"
      },
      "execution_count": null,
      "outputs": [
        {
          "output_type": "stream",
          "name": "stdout",
          "text": [
            "Accuracy score: 0.68125\n",
            "Precision score: 0.6710526315789473\n",
            "F1 score: 0.6666666666666666\n",
            "Confusion Matrix: [[116  50]\n",
            " [ 52 102]]\n"
          ]
        }
      ]
    }
  ]
}